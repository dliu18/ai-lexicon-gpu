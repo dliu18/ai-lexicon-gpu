{
 "cells": [
  {
   "cell_type": "code",
   "execution_count": 5,
   "metadata": {},
   "outputs": [],
   "source": [
    "import requests\n",
    "from bs4 import BeautifulSoup\n",
    "import pdftotext\n",
    "import os\n",
    "import pickle\n",
    "import pandas as pd\n",
    "import matplotlib.pyplot as plt"
   ]
  },
  {
   "cell_type": "code",
   "execution_count": 36,
   "metadata": {},
   "outputs": [],
   "source": [
    "def getPapersForYear(year):\n",
    "    '''\n",
    "        Input: year of Proceedings to scrape\n",
    "        Output: A list of papers, each has the format {\"title\":, \"paper_link\":, \"supplemental_link\":}\n",
    "    '''\n",
    "    # Get Links to All Paper Abstracts \n",
    "    root_urls = {\\\n",
    "                \"2020\": \"http://proceedings.mlr.press/v119/\",\\\n",
    "                \"2019\": \"http://proceedings.mlr.press/v97/\",\\\n",
    "                \"2018\": \"http://proceedings.mlr.press/v80/\",\\\n",
    "                \"2017\": \"http://proceedings.mlr.press/v70\",\\\n",
    "                \"2016\": \"http://proceedings.mlr.press/v48\",\\\n",
    "                \"2015\": \"http://proceedings.mlr.press/v37/\",\\\n",
    "                \"2014\": \"http://proceedings.mlr.press/v32/\",\\\n",
    "                \"2013\": \"http://proceedings.mlr.press/v28/\"}\n",
    "    root_url = root_urls[str(year)]\n",
    "    resp = requests.get(root_url)\n",
    "    \n",
    "    mainPage_html = BeautifulSoup(resp.content, 'html.parser')\n",
    "    paper_divs = mainPage_html.find_all('div', \"paper\")\n",
    "\n",
    "    papers = []\n",
    "    for paper_div in paper_divs:\n",
    "        title = \"Initial Title\"\n",
    "        try:\n",
    "            title = paper_div.find(\"p\", \"title\").text\n",
    "            assert title != \"Initial Title\"\n",
    "            \n",
    "            paper_title_links = {\"title\": title, \"year\": year}\n",
    "            links_a = paper_div.find(\"p\", \"links\").find_all(\"a\")\n",
    "            for link in links_a: \n",
    "                if link.text == \"Download PDF\":\n",
    "                    paper_title_links[\"paper_link\"] = link['href']\n",
    "                elif link.text == \"Supplementary PDF\":\n",
    "                    paper_title_links[\"supplemental_link\"] = link['href']\n",
    "            assert len(paper_title_links) > 1\n",
    "            papers.append(paper_title_links)\n",
    "        except:\n",
    "            print(title)\n",
    "            continue\n",
    "    with open(\"pickles/icml_papers_\" + str(year) + \".pickle\", \"wb\") as pickleFile:\n",
    "        description = \"list of paper metadata from ICML. Each entry is a dictionary containing\\\n",
    "        the paper title, link to paper pdf (if it exists), and link to supplemental materials (if it exists)\"\n",
    "        pickle.dump((description, papers), pickleFile)\n",
    "    \n",
    "    return papers"
   ]
  },
  {
   "cell_type": "code",
   "execution_count": 26,
   "metadata": {},
   "outputs": [],
   "source": [
    "# Within Each Abstract, Download the paper and supplemental materials\n",
    "def extractTextFromURL(paper):\n",
    "    pdftxt = \"\"\n",
    "    try:\n",
    "        if \"paper_link\" in paper:\n",
    "            #Download PDF\n",
    "            with open('papers/' + paper[\"title\"] + \".pdf\", \"wb\") as pdfFile:\n",
    "                rsp = requests.get(paper[\"paper_link\"])\n",
    "                pdfFile.write(rsp.content)\n",
    "\n",
    "            #Extract Text\n",
    "            with open('papers/' + paper[\"title\"] + \".pdf\", \"rb\") as pdfFile:\n",
    "                pdf = pdftotext.PDF(pdfFile)\n",
    "                pdftxt += \"\\n\\n\".join(pdf)\n",
    "\n",
    "            #Delete PDF\n",
    "            os.remove('papers/' + paper[\"title\"] + \".pdf\")\n",
    "\n",
    "        if \"supplemental_link\" in paper:\n",
    "            #Download PDF\n",
    "            with open('supplemental/' + paper[\"title\"] + \".pdf\", \"wb\") as pdfFile:\n",
    "                rsp = requests.get(paper[\"supplemental_link\"])\n",
    "                pdfFile.write(rsp.content)\n",
    "\n",
    "            #Extract Text\n",
    "            with open('supplemental/' + paper[\"title\"] + \".pdf\", \"rb\") as pdfFile:\n",
    "                pdf = pdftotext.PDF(pdfFile)\n",
    "                pdftxt += \"\\n\\n\".join(pdf)\n",
    "\n",
    "            #Delete PDF\n",
    "            os.remove('supplemental/' + paper[\"title\"] + \".pdf\")\n",
    "    except:\n",
    "        print(\"Could not extract text for: \" + paper[\"title\"])\n",
    "    return pdftxt.lower()"
   ]
  },
  {
   "cell_type": "code",
   "execution_count": 27,
   "metadata": {},
   "outputs": [],
   "source": [
    "def saveBroaderImpact(paper, txt):\n",
    "    broader_impact_idx = txt.find(\"broader impact\")\n",
    "    if broader_impact_idx < 0:\n",
    "        broader_impact_idx = txt.find(\"broader societal impact\")\n",
    "    if broader_impact_idx < 0:\n",
    "        print(\"Could not find Broader Impact section for: \" + paper[\"title\"])\n",
    "        return \n",
    "    \n",
    "    txt = txt[broader_impact_idx:]\n",
    "    end_idx = len(txt)\n",
    "    acknowledgement_idx = txt.find(\"acknowledgement\")\n",
    "    references_idx = txt.find(\"references\")\n",
    "    if acknowledgement_idx > 0 and references_idx > 0:\n",
    "        end_idx = min(acknowledgement_idx, references_idx)\n",
    "    elif acknowledgement_idx > 0:\n",
    "        end_idx = acknowledgement_idx\n",
    "    elif references_idx > 0:\n",
    "        end_idx = references_idx\n",
    "    \n",
    "    txt = txt[:end_idx]\n",
    "    \n",
    "    with open(\"papers/\" + paper[\"title\"] + \".txt\", \"w\") as txtFile:\n",
    "        txtFile.write(txt)"
   ]
  },
  {
   "cell_type": "code",
   "execution_count": 28,
   "metadata": {},
   "outputs": [],
   "source": [
    "def parsePaper(paper, pdftxt, parsed_papers):\n",
    "    keywords = [\\\n",
    "               (\"Github\", \"github.com\"),\\\n",
    "               (\"GPU\", \"gpu\"),\\\n",
    "               (\"Reproducibility\", \"reproducibility\"),\\\n",
    "               (\"Broader Impact\", \"broader impact\")]\n",
    "\n",
    "    parsed_paper = {\"title\": paper[\"title\"], \"year\": paper[\"year\"]}\n",
    "    for key, value in keywords:\n",
    "        parsed_paper[key] = int(value in pdftxt)\n",
    "    parsed_papers.append(parsed_paper)"
   ]
  },
  {
   "cell_type": "code",
   "execution_count": 23,
   "metadata": {},
   "outputs": [
    {
     "name": "stdout",
     "output_type": "stream",
     "text": [
      "1084\n"
     ]
    }
   ],
   "source": [
    "papers = getPapersForYear(2020)\n",
    "print(len(papers))"
   ]
  },
  {
   "cell_type": "code",
   "execution_count": 38,
   "metadata": {},
   "outputs": [
    {
     "name": "stdout",
     "output_type": "stream",
     "text": [
      "2020\n",
      "Finished getting links\n",
      "2019\n",
      "Finished getting links\n",
      "Could not extract text for: First-Order Algorithms Converge Faster than $O(1/k)$ on Convex Problems\n",
      "2018\n",
      "Finished getting links\n",
      "Could not extract text for: Fast Stochastic AUC Maximization with $O(1/n)$-Convergence Rate\n",
      "Could not extract text for: Beyond 1/2-Approximation for Submodular Maximization on Massive Data Streams\n",
      "Could not extract text for: Local Convergence Properties of SAGA/Prox-SVRG and Acceleration\n",
      "2017\n",
      "Finished getting links\n",
      "Could not extract text for: Deep Voice: Real-time Neural Text-to-Speech\n",
      "Could not extract text for: RobustFill: Neural Program Learning under Noisy I/O\n",
      "2016\n",
      "Finished getting links\n",
      "Could not extract text for: A Subspace Learning Approach for High Dimensional Matrix Decomposition with Efficient Column/Row Sampling\n",
      "2015\n",
      "Finished getting links\n",
      "2014\n",
      "Finished getting links\n",
      "2013\n",
      "Finished getting links\n"
     ]
    }
   ],
   "source": [
    "years = [2020, 2019, 2018, 2017, 2016, 2015, 2014, 2013]\n",
    "parsed_papers = []\n",
    "for year in years:\n",
    "    print(str(year))\n",
    "    papers = getPapersForYear(year)\n",
    "    print(\"Finished getting links\")\n",
    "    for paper in papers:\n",
    "        pdftxt = extractTextFromURL(paper)\n",
    "        #saveBroaderImpact(paper, pdftxt)\n",
    "        parsePaper(paper, pdftxt, parsed_papers)\n",
    "    \n",
    "    parsed_papers_pd = pd.DataFrame(parsed_papers)\n",
    "    with open(\"pickles/icml_parsed_papers_pd.pickle\", \"wb\") as pickleFile:\n",
    "        description = \"table with statistics of interest for ICML papers. Each paper is a row in which\\\n",
    "        we indicate the desired properties that are satisfied.\"\n",
    "        pickle.dump((description, parsed_papers_pd), pickleFile)"
   ]
  },
  {
   "cell_type": "code",
   "execution_count": 43,
   "metadata": {},
   "outputs": [],
   "source": [
    "parsed_papers_pd = pd.DataFrame(parsed_papers)\n",
    "with open(\"pickles/icml_parsed_papers_pd.pickle\", \"wb\") as pickleFile:\n",
    "    description = \"table with statistics of interest for neurips 2002 papers. Each paper is a row in which\\\n",
    "    we indicate the desired properties that are satisfied.\"\n",
    "    pickle.dump((description, parsed_papers_pd), pickleFile)"
   ]
  },
  {
   "cell_type": "code",
   "execution_count": 44,
   "metadata": {},
   "outputs": [
    {
     "data": {
      "text/html": [
       "<div>\n",
       "<style scoped>\n",
       "    .dataframe tbody tr th:only-of-type {\n",
       "        vertical-align: middle;\n",
       "    }\n",
       "\n",
       "    .dataframe tbody tr th {\n",
       "        vertical-align: top;\n",
       "    }\n",
       "\n",
       "    .dataframe thead th {\n",
       "        text-align: right;\n",
       "    }\n",
       "</style>\n",
       "<table border=\"1\" class=\"dataframe\">\n",
       "  <thead>\n",
       "    <tr style=\"text-align: right;\">\n",
       "      <th></th>\n",
       "      <th>Github</th>\n",
       "      <th>GPU</th>\n",
       "      <th>Reproducibility</th>\n",
       "      <th>Broader Impact</th>\n",
       "    </tr>\n",
       "    <tr>\n",
       "      <th>year</th>\n",
       "      <th></th>\n",
       "      <th></th>\n",
       "      <th></th>\n",
       "      <th></th>\n",
       "    </tr>\n",
       "  </thead>\n",
       "  <tbody>\n",
       "    <tr>\n",
       "      <th>2013</th>\n",
       "      <td>0.035336</td>\n",
       "      <td>0.049470</td>\n",
       "      <td>0.003534</td>\n",
       "      <td>0.000000</td>\n",
       "    </tr>\n",
       "    <tr>\n",
       "      <th>2014</th>\n",
       "      <td>0.054839</td>\n",
       "      <td>0.054839</td>\n",
       "      <td>0.003226</td>\n",
       "      <td>0.000000</td>\n",
       "    </tr>\n",
       "    <tr>\n",
       "      <th>2015</th>\n",
       "      <td>0.144444</td>\n",
       "      <td>0.096296</td>\n",
       "      <td>0.007407</td>\n",
       "      <td>0.000000</td>\n",
       "    </tr>\n",
       "    <tr>\n",
       "      <th>2016</th>\n",
       "      <td>0.180124</td>\n",
       "      <td>0.136646</td>\n",
       "      <td>0.018634</td>\n",
       "      <td>0.000000</td>\n",
       "    </tr>\n",
       "    <tr>\n",
       "      <th>2017</th>\n",
       "      <td>0.237327</td>\n",
       "      <td>0.158986</td>\n",
       "      <td>0.009217</td>\n",
       "      <td>0.000000</td>\n",
       "    </tr>\n",
       "    <tr>\n",
       "      <th>2018</th>\n",
       "      <td>0.346216</td>\n",
       "      <td>0.190016</td>\n",
       "      <td>0.017713</td>\n",
       "      <td>0.000000</td>\n",
       "    </tr>\n",
       "    <tr>\n",
       "      <th>2019</th>\n",
       "      <td>0.438551</td>\n",
       "      <td>0.192755</td>\n",
       "      <td>0.032342</td>\n",
       "      <td>0.002587</td>\n",
       "    </tr>\n",
       "    <tr>\n",
       "      <th>2020</th>\n",
       "      <td>0.486162</td>\n",
       "      <td>0.279520</td>\n",
       "      <td>0.054428</td>\n",
       "      <td>0.000923</td>\n",
       "    </tr>\n",
       "  </tbody>\n",
       "</table>\n",
       "</div>"
      ],
      "text/plain": [
       "        Github       GPU  Reproducibility  Broader Impact\n",
       "year                                                     \n",
       "2013  0.035336  0.049470         0.003534        0.000000\n",
       "2014  0.054839  0.054839         0.003226        0.000000\n",
       "2015  0.144444  0.096296         0.007407        0.000000\n",
       "2016  0.180124  0.136646         0.018634        0.000000\n",
       "2017  0.237327  0.158986         0.009217        0.000000\n",
       "2018  0.346216  0.190016         0.017713        0.000000\n",
       "2019  0.438551  0.192755         0.032342        0.002587\n",
       "2020  0.486162  0.279520         0.054428        0.000923"
      ]
     },
     "execution_count": 44,
     "metadata": {},
     "output_type": "execute_result"
    }
   ],
   "source": [
    "with open(\"pickles/icml_parsed_papers_pd.pickle\", \"rb\") as pickleFile:\n",
    "    description, parsed_papers_pd = pickle.load(pickleFile)\n",
    "\n",
    "parsed_papers_pd.groupby(\"year\").mean()"
   ]
  },
  {
   "cell_type": "code",
   "execution_count": 45,
   "metadata": {},
   "outputs": [
    {
     "data": {
      "text/plain": [
       "Text(0.5, 1.0, 'Fraction of ICML papers containing computing keywords (2011-2020)')"
      ]
     },
     "execution_count": 45,
     "metadata": {},
     "output_type": "execute_result"
    },
    {
     "data": {
      "image/png": "[encoded data removed]",
      "text/plain": [
       "<Figure size 432x288 with 1 Axes>"
      ]
     },
     "metadata": {
      "needs_background": "light"
     },
     "output_type": "display_data"
    }
   ],
   "source": [
    "ax = plt.subplot()\n",
    "parsed_papers_pd[[\"year\", \"Github\", \"GPU\", \"Reproducibility\"]].groupby(\"year\").mean().plot(ax=ax)\n",
    "ax.set_xlabel(\"Year\")\n",
    "ax.set_ylabel(\"Fraction of Papers\")\n",
    "ax.set_title(\"Fraction of ICML papers containing computing keywords (2011-2020)\")"
   ]
  },
  {
   "cell_type": "code",
   "execution_count": 40,
   "metadata": {},
   "outputs": [
    {
     "data": {
      "text/plain": [
       "0                              Compositional Plan Vectors\n",
       "1           Learning to Propagate for Graph Meta-Learning\n",
       "2       XNAS: Neural Architecture Search with Expert A...\n",
       "3          Multi-resolution Multi-task Gaussian Processes\n",
       "4                                 Deep Equilibrium Models\n",
       "                              ...                        \n",
       "7426                Pylon Model for Semantic Segmentation\n",
       "7427               How biased are maximum entropy models?\n",
       "7428         Gaussian process modulated renewal processes\n",
       "7429    An ideal observer model for identifying the re...\n",
       "7430    Greedy Algorithms for Structurally Constrained...\n",
       "Name: title, Length: 7431, dtype: object"
      ]
     },
     "execution_count": 40,
     "metadata": {},
     "output_type": "execute_result"
    }
   ],
   "source": []
  },
  {
   "cell_type": "code",
   "execution_count": null,
   "metadata": {},
   "outputs": [],
   "source": []
  }
 ],
 "metadata": {
  "kernelspec": {
   "display_name": "Python 3",
   "language": "python",
   "name": "python3"
  },
  "language_info": {
   "codemirror_mode": {
    "name": "ipython",
    "version": 3
   },
   "file_extension": ".py",
   "mimetype": "text/x-python",
   "name": "python",
   "nbconvert_exporter": "python",
   "pygments_lexer": "ipython3",
   "version": "3.8.3"
  }
 },
 "nbformat": 4,
 "nbformat_minor": 4
}
