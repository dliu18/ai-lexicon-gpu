{
 "cells": [
  {
   "cell_type": "code",
   "execution_count": 4,
   "metadata": {},
   "outputs": [],
   "source": [
    "import requests\n",
    "from bs4 import BeautifulSoup\n",
    "import pdftotext\n",
    "import os\n",
    "import pickle\n",
    "import pandas as pd\n",
    "import matplotlib.pyplot as plt"
   ]
  },
  {
   "cell_type": "code",
   "execution_count": 75,
   "metadata": {},
   "outputs": [],
   "source": [
    "def getPapersForYear(year):\n",
    "    '''\n",
    "        Input: year of Proceedings to scrape\n",
    "        Output: A list of papers, each has the format {\"title\":, \"paper_link\":, \"supplemental_link\":}\n",
    "    '''\n",
    "    # Get Links to All Paper Abstracts \n",
    "    root_url = \"https://www.ijcai.org/proceedings/\"\n",
    "    resp = requests.get(root_url + str(year))\n",
    "    \n",
    "    mainPage_html = BeautifulSoup(resp.content, 'html.parser')\n",
    "    papers = []\n",
    "    if year > 2016:\n",
    "        paper_divs = mainPage_html.find_all('div', \"paper_wrapper\")\n",
    "        for paper_div in paper_divs:\n",
    "            title = \"Initial Title\"\n",
    "            try:\n",
    "                title_div = paper_div.find(\"div\", \"title\")\n",
    "                assert title_div != None\n",
    "\n",
    "                title = title_div.text\n",
    "                paper_title_links = {\"title\": title, \"year\": str(year)}\n",
    "                links_a = paper_div.find_all(\"a\")\n",
    "                for link_a in links_a:\n",
    "                    if \".pdf\" in link_a[\"href\"]:\n",
    "                        paper_title_links[\"paper_link\"] = root_url + str(year) + \"/\" + link_a[\"href\"]\n",
    "                        break\n",
    "                assert len(paper_title_links) > 1\n",
    "                papers.append(paper_title_links)\n",
    "            except:\n",
    "                print(title)\n",
    "                continue\n",
    "    elif year > 2013:\n",
    "        links_a = [link_a for link_a in mainPage_html.find_all('a') if \".pdf\" in link_a[\"href\"]]\n",
    "        for link_a in links_a:\n",
    "            title = \"Initial Title\"\n",
    "            try:\n",
    "                title_raw = [sibling for sibling in link_a.previous_siblings][5]\n",
    "                title = \"/\".join(title_raw.split(\"/\")[:-1]).strip()\n",
    "                paper_title_links = {\n",
    "                    \"title\": title,\\\n",
    "                    \"year\": str(year),\\\n",
    "                    \"paper_link\": \"https://www.ijcai.org\" + link_a[\"href\"]}\n",
    "                papers.append(paper_title_links)\n",
    "            except:\n",
    "                print(title)\n",
    "                continue\n",
    "    else: \n",
    "        links_a = [link_a for link_a in mainPage_html.find_all('a') if \".pdf\" in link_a[\"href\"]]\n",
    "        for link_a in links_a:\n",
    "            paper_title_links = {\n",
    "                \"title\": link_a.text,\\\n",
    "                \"year\": str(year),\\\n",
    "                \"paper_link\": link_a[\"href\"]}\n",
    "            papers.append(paper_title_links)\n",
    "            \n",
    "    with open(\"pickles/ijcai_papers_\" + str(year) + \".pickle\", \"wb\") as pickleFile:\n",
    "        description = \"list of paper metadata from IJCAI. Each entry is a dictionary containing\\\n",
    "        the paper title, link to paper pdf (if it exists), and link to supplemental materials (if it exists)\"\n",
    "        pickle.dump((description, papers), pickleFile)\n",
    "    return papers    "
   ]
  },
  {
   "cell_type": "code",
   "execution_count": 62,
   "metadata": {},
   "outputs": [],
   "source": [
    "# Within Each Abstract, Download the paper and supplemental materials\n",
    "def extractTextFromURL(paper):\n",
    "    pdftxt = \"\"\n",
    "    try:\n",
    "        if \"paper_link\" in paper:\n",
    "            #Download PDF\n",
    "            with open('papers/' + paper[\"title\"] + \".pdf\", \"wb\") as pdfFile:\n",
    "                rsp = requests.get(paper[\"paper_link\"])\n",
    "                pdfFile.write(rsp.content)\n",
    "\n",
    "            #Extract Text\n",
    "            with open('papers/' + paper[\"title\"] + \".pdf\", \"rb\") as pdfFile:\n",
    "                pdf = pdftotext.PDF(pdfFile)\n",
    "                pdftxt += \"\\n\\n\".join(pdf)\n",
    "\n",
    "            #Delete PDF\n",
    "            os.remove('papers/' + paper[\"title\"] + \".pdf\")\n",
    "\n",
    "        if \"supplemental_link\" in paper:\n",
    "            #Download PDF\n",
    "            with open('supplemental/' + paper[\"title\"] + \".pdf\", \"wb\") as pdfFile:\n",
    "                rsp = requests.get(paper[\"supplemental_link\"])\n",
    "                pdfFile.write(rsp.content)\n",
    "\n",
    "            #Extract Text\n",
    "            with open('supplemental/' + paper[\"title\"] + \".pdf\", \"rb\") as pdfFile:\n",
    "                pdf = pdftotext.PDF(pdfFile)\n",
    "                pdftxt += \"\\n\\n\".join(pdf)\n",
    "\n",
    "            #Delete PDF\n",
    "            os.remove('supplemental/' + paper[\"title\"] + \".pdf\")\n",
    "    except:\n",
    "        print(\"Could not extract text for: \" + paper[\"title\"])\n",
    "    return pdftxt.lower()"
   ]
  },
  {
   "cell_type": "code",
   "execution_count": 63,
   "metadata": {},
   "outputs": [],
   "source": [
    "def parsePaper(paper, pdftxt, parsed_papers):\n",
    "    keywords = [\\\n",
    "               (\"Github\", \"github.com\"),\\\n",
    "               (\"GPU\", \"gpu\"),\\\n",
    "               (\"Reproducibility\", \"reproducibility\"),\\\n",
    "               (\"Broader Impact\", \"broader impact\")]\n",
    "\n",
    "    parsed_paper = {\"title\": paper[\"title\"], \"year\": paper[\"year\"]}\n",
    "    for key, value in keywords:\n",
    "        parsed_paper[key] = int(value in pdftxt)\n",
    "    parsed_papers.append(parsed_paper)"
   ]
  },
  {
   "cell_type": "code",
   "execution_count": 81,
   "metadata": {},
   "outputs": [
    {
     "name": "stdout",
     "output_type": "stream",
     "text": [
      "{'title': 'An Abstraction-Refinement Methodology for Reasoning about Network Games', 'year': '2017', 'paper_link': 'https://www.ijcai.org/proceedings/2017/0011.pdf'}\n"
     ]
    },
    {
     "data": {
      "text/plain": [
       "781"
      ]
     },
     "execution_count": 81,
     "metadata": {},
     "output_type": "execute_result"
    }
   ],
   "source": [
    "papers = getPapersForYear(2017)\n",
    "print(papers[10])\n",
    "len(papers)"
   ]
  },
  {
   "cell_type": "code",
   "execution_count": 83,
   "metadata": {},
   "outputs": [
    {
     "name": "stdout",
     "output_type": "stream",
     "text": [
      "2020\n",
      "Finished getting links\n",
      "Could not extract text for: Scaling Up AND/OR Abstraction Sampling\n",
      "Could not extract text for: The Blind Men and the Elephant: Integrated Offline/Online Optimization Under Uncertainty\n",
      "2019\n",
      "Finished getting links\n",
      "Could not extract text for: Depth-First Memory-Limited AND/OR Search and Unsolvability in Cyclic Search Spaces\n",
      "Could not extract text for: Planning for LTLf /LDLf Goals in Non-Markovian Fully Observable Nondeterministic Domains\n",
      "2018\n",
      "Finished getting links\n",
      "Could not extract text for: Methods for off-line/on-line optimization under uncertainty\n",
      "Could not extract text for: Complexity of Approximate Query Answering under Inconsistency in Datalog+/-\n",
      "Could not extract text for: Assigning Personality/Profile to a Chatting Machine for Coherent Conversation Generation\n",
      "2017\n",
      "Finished getting links\n",
      "Could not extract text for: Causal Discovery from Nonstationary/Heterogeneous Data: Skeleton Estimation and Orientation Determination\n",
      "Could not extract text for: Towards Trust, Transparency and Liability in AI / AS systems\n",
      "2016\n",
      "Finished getting links\n",
      "Could not extract text for: Scalable Greedy Algorithms for Task/Resource Constrained Multi-Agent Stochastic Planning\n",
      "Could not extract text for: Limited Discrepancy AND/OR Search and Its Application to Optimization Tasks in Graphical Models\n",
      "2015\n",
      "Initial Title\n",
      "Finished getting links\n",
      "2014\n",
      "Finished getting links\n",
      "2013\n",
      "Finished getting links\n",
      "Could not extract text for: Preface / xxvii\n",
      "Could not extract text for: Conference Organization / xxviii\n",
      "Could not extract text for: Program Committee / xxix\n",
      "Could not extract text for: Organizers and Sponsors / xxxviii\n",
      "Could not extract text for: Awards and Distinguished Papers / xxxix\n",
      "Could not extract text for: IJCAI Organization / xl\n",
      "Could not extract text for: Past IJCAI Conferences / xli\n",
      "Could not extract text for: Preference-Based Query Answering in Datalog+/– Ontologies\n",
      "Could not extract text for: Algorithms for Generating Ordered Solutions for Explicit AND/OR Structures: Extended Abstract\n",
      "2011\n",
      "Finished getting links\n",
      "Could not extract text for: here\n"
     ]
    }
   ],
   "source": [
    "years = [2020, 2019, 2018, 2017, 2016, 2015, 2014, 2013, 2011]\n",
    "parsed_papers = []\n",
    "for year in years:\n",
    "    print(str(year))\n",
    "    papers = getPapersForYear(year)\n",
    "    print(\"Finished getting links\")\n",
    "    for paper in papers:\n",
    "        pdftxt = extractTextFromURL(paper)\n",
    "        #saveBroaderImpact(paper, pdftxt)\n",
    "        parsePaper(paper, pdftxt, parsed_papers)\n",
    "    \n",
    "    parsed_papers_pd = pd.DataFrame(parsed_papers)\n",
    "    with open(\"pickles/ijcai_parsed_papers_pd.pickle\", \"wb\") as pickleFile:\n",
    "        description = \"table with statistics of interest for IJCAI papers. Each paper is a row in which\\\n",
    "        we indicate the desired properties that are satisfied.\"\n",
    "        pickle.dump((description, parsed_papers_pd), pickleFile)"
   ]
  },
  {
   "cell_type": "code",
   "execution_count": 84,
   "metadata": {},
   "outputs": [],
   "source": [
    "parsed_papers_pd = pd.DataFrame(parsed_papers)\n",
    "with open(\"pickles/ijcai_parsed_papers_pd.pickle\", \"wb\") as pickleFile:\n",
    "    description = \"table with statistics of interest for neurips 2002 papers. Each paper is a row in which\\\n",
    "    we indicate the desired properties that are satisfied.\"\n",
    "    pickle.dump((description, parsed_papers_pd), pickleFile)"
   ]
  },
  {
   "cell_type": "code",
   "execution_count": 85,
   "metadata": {},
   "outputs": [
    {
     "data": {
      "text/html": [
       "<div>\n",
       "<style scoped>\n",
       "    .dataframe tbody tr th:only-of-type {\n",
       "        vertical-align: middle;\n",
       "    }\n",
       "\n",
       "    .dataframe tbody tr th {\n",
       "        vertical-align: top;\n",
       "    }\n",
       "\n",
       "    .dataframe thead th {\n",
       "        text-align: right;\n",
       "    }\n",
       "</style>\n",
       "<table border=\"1\" class=\"dataframe\">\n",
       "  <thead>\n",
       "    <tr style=\"text-align: right;\">\n",
       "      <th></th>\n",
       "      <th>Github</th>\n",
       "      <th>GPU</th>\n",
       "      <th>Reproducibility</th>\n",
       "      <th>Broader Impact</th>\n",
       "    </tr>\n",
       "    <tr>\n",
       "      <th>year</th>\n",
       "      <th></th>\n",
       "      <th></th>\n",
       "      <th></th>\n",
       "      <th></th>\n",
       "    </tr>\n",
       "  </thead>\n",
       "  <tbody>\n",
       "    <tr>\n",
       "      <th>2011</th>\n",
       "      <td>0.000000</td>\n",
       "      <td>0.003945</td>\n",
       "      <td>0.003945</td>\n",
       "      <td>0.001972</td>\n",
       "    </tr>\n",
       "    <tr>\n",
       "      <th>2013</th>\n",
       "      <td>0.009785</td>\n",
       "      <td>0.009785</td>\n",
       "      <td>0.003914</td>\n",
       "      <td>0.000000</td>\n",
       "    </tr>\n",
       "    <tr>\n",
       "      <th>2015</th>\n",
       "      <td>0.038110</td>\n",
       "      <td>0.012195</td>\n",
       "      <td>0.001524</td>\n",
       "      <td>0.000000</td>\n",
       "    </tr>\n",
       "    <tr>\n",
       "      <th>2016</th>\n",
       "      <td>0.072948</td>\n",
       "      <td>0.042553</td>\n",
       "      <td>0.009119</td>\n",
       "      <td>0.000000</td>\n",
       "    </tr>\n",
       "    <tr>\n",
       "      <th>2017</th>\n",
       "      <td>0.134443</td>\n",
       "      <td>0.083227</td>\n",
       "      <td>0.011524</td>\n",
       "      <td>0.001280</td>\n",
       "    </tr>\n",
       "    <tr>\n",
       "      <th>2018</th>\n",
       "      <td>0.175862</td>\n",
       "      <td>0.121839</td>\n",
       "      <td>0.013793</td>\n",
       "      <td>0.000000</td>\n",
       "    </tr>\n",
       "    <tr>\n",
       "      <th>2019</th>\n",
       "      <td>0.274896</td>\n",
       "      <td>0.134855</td>\n",
       "      <td>0.013485</td>\n",
       "      <td>0.000000</td>\n",
       "    </tr>\n",
       "    <tr>\n",
       "      <th>2020</th>\n",
       "      <td>0.305520</td>\n",
       "      <td>0.150193</td>\n",
       "      <td>0.019255</td>\n",
       "      <td>0.000000</td>\n",
       "    </tr>\n",
       "  </tbody>\n",
       "</table>\n",
       "</div>"
      ],
      "text/plain": [
       "        Github       GPU  Reproducibility  Broader Impact\n",
       "year                                                     \n",
       "2011  0.000000  0.003945         0.003945        0.001972\n",
       "2013  0.009785  0.009785         0.003914        0.000000\n",
       "2015  0.038110  0.012195         0.001524        0.000000\n",
       "2016  0.072948  0.042553         0.009119        0.000000\n",
       "2017  0.134443  0.083227         0.011524        0.001280\n",
       "2018  0.175862  0.121839         0.013793        0.000000\n",
       "2019  0.274896  0.134855         0.013485        0.000000\n",
       "2020  0.305520  0.150193         0.019255        0.000000"
      ]
     },
     "execution_count": 85,
     "metadata": {},
     "output_type": "execute_result"
    }
   ],
   "source": [
    "with open(\"pickles/ijcai_parsed_papers_pd.pickle\", \"rb\") as pickleFile:\n",
    "    description, parsed_papers_pd = pickle.load(pickleFile)\n",
    "\n",
    "parsed_papers_pd.groupby(\"year\").mean()"
   ]
  },
  {
   "cell_type": "code",
   "execution_count": 87,
   "metadata": {},
   "outputs": [
    {
     "data": {
      "text/plain": [
       "Text(0.5, 1.0, 'Fraction of IJCAI papers containing computing keywords (2011-2020)')"
      ]
     },
     "execution_count": 87,
     "metadata": {},
     "output_type": "execute_result"
    },
    {
     "data": {
      "image/png": "[encoded data removed]",
      "text/plain": [
       "<Figure size 432x288 with 1 Axes>"
      ]
     },
     "metadata": {
      "needs_background": "light"
     },
     "output_type": "display_data"
    }
   ],
   "source": [
    "ax = plt.subplot()\n",
    "parsed_papers_pd[[\"year\", \"Github\", \"GPU\", \"Reproducibility\"]].groupby(\"year\").mean().plot(ax=ax)\n",
    "ax.set_xlabel(\"Year\")\n",
    "ax.set_ylabel(\"Fraction of Papers\")\n",
    "ax.set_title(\"Fraction of IJCAI papers containing computing keywords (2011-2020)\")"
   ]
  },
  {
   "cell_type": "code",
   "execution_count": 40,
   "metadata": {},
   "outputs": [
    {
     "data": {
      "text/plain": [
       "0                              Compositional Plan Vectors\n",
       "1           Learning to Propagate for Graph Meta-Learning\n",
       "2       XNAS: Neural Architecture Search with Expert A...\n",
       "3          Multi-resolution Multi-task Gaussian Processes\n",
       "4                                 Deep Equilibrium Models\n",
       "                              ...                        \n",
       "7426                Pylon Model for Semantic Segmentation\n",
       "7427               How biased are maximum entropy models?\n",
       "7428         Gaussian process modulated renewal processes\n",
       "7429    An ideal observer model for identifying the re...\n",
       "7430    Greedy Algorithms for Structurally Constrained...\n",
       "Name: title, Length: 7431, dtype: object"
      ]
     },
     "execution_count": 40,
     "metadata": {},
     "output_type": "execute_result"
    }
   ],
   "source": []
  },
  {
   "cell_type": "code",
   "execution_count": null,
   "metadata": {},
   "outputs": [],
   "source": []
  }
 ],
 "metadata": {
  "kernelspec": {
   "display_name": "Python 3",
   "language": "python",
   "name": "python3"
  },
  "language_info": {
   "codemirror_mode": {
    "name": "ipython",
    "version": 3
   },
   "file_extension": ".py",
   "mimetype": "text/x-python",
   "name": "python",
   "nbconvert_exporter": "python",
   "pygments_lexer": "ipython3",
   "version": "3.8.3"
  }
 },
 "nbformat": 4,
 "nbformat_minor": 4
}
