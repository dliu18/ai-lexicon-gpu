{
 "cells": [
  {
   "cell_type": "code",
   "execution_count": 1,
   "metadata": {},
   "outputs": [],
   "source": [
    "import requests\n",
    "from bs4 import BeautifulSoup\n",
    "import pdftotext\n",
    "import os\n",
    "import pickle\n",
    "import pandas as pd\n",
    "import matplotlib.pyplot as plt"
   ]
  },
  {
   "cell_type": "code",
   "execution_count": 2,
   "metadata": {},
   "outputs": [],
   "source": [
    "def getPapersForYear(year):\n",
    "    '''\n",
    "        Input: year of Proceedings to scrape\n",
    "        Output: A list of papers, each has the format {\"title\":, \"paper_link\":, \"supplemental_link\":}\n",
    "    '''\n",
    "    # Get Links to All Paper Abstracts \n",
    "    root_url = \"https://proceedings.neurips.cc\"\n",
    "    resp = requests.get(root_url + \"/paper/\" + str(year))\n",
    "    \n",
    "    mainPage_html = BeautifulSoup(resp.content, 'html.parser')\n",
    "    links = [link[\"href\"] for link in mainPage_html.find_all('a')]\n",
    "    abstract_links = []\n",
    "    for link in links:\n",
    "        if \"/paper\" in link:\n",
    "            abstract_links.append(root_url + link)\n",
    "\n",
    "    papers = []\n",
    "    for abstract_url in abstract_links:\n",
    "        try:\n",
    "            abstract_html = BeautifulSoup(requests.get(abstract_url).content,\\\n",
    "                                         'html.parser')\n",
    "            paper_title_links = {\"title\": abstract_html.find('h4').text.strip().replace(\"/\", \":\")}\n",
    "            paper_title_links[\"year\"] = str(year)\n",
    "            pdf_links = [link[\"href\"] for link in abstract_html.find_all('a')]\n",
    "            for pdf in pdf_links:\n",
    "                if \"Paper.pdf\" in pdf:\n",
    "                    paper_title_links[\"paper_link\"] = root_url + pdf\n",
    "                elif \"Supplemental.pdf\" in pdf:\n",
    "                    paper_title_links[\"supplemental_link\"] = root_url + pdf\n",
    "            papers.append(paper_title_links)\n",
    "        except:\n",
    "            print(abstract_url)\n",
    "            continue\n",
    "\n",
    "    with open(\"pickles/papers_\" + str(year) + \".pickle\", \"wb\") as pickleFile:\n",
    "        description = \"list of paper metadata from Neurips. Each entry is a dictionary containing\\\n",
    "        the paper title, link to paper pdf (if it exists), and link to supplemental materials (if it exists)\"\n",
    "        pickle.dump((description, papers), pickleFile)\n",
    "    \n",
    "    return papers"
   ]
  },
  {
   "cell_type": "code",
   "execution_count": 3,
   "metadata": {},
   "outputs": [],
   "source": [
    "# Within Each Abstract, Download the paper and supplemental materials\n",
    "def extractTextFromURL(paper):\n",
    "    pdftxt = \"\"\n",
    "    try:\n",
    "        if \"paper_link\" in paper:\n",
    "            #Download PDF\n",
    "            with open('papers/' + paper[\"title\"] + \".pdf\", \"wb\") as pdfFile:\n",
    "                rsp = requests.get(paper[\"paper_link\"])\n",
    "                pdfFile.write(rsp.content)\n",
    "\n",
    "            #Extract Text\n",
    "            with open('papers/' + paper[\"title\"] + \".pdf\", \"rb\") as pdfFile:\n",
    "                pdf = pdftotext.PDF(pdfFile)\n",
    "                pdftxt += \"\\n\\n\".join(pdf)\n",
    "\n",
    "            #Delete PDF\n",
    "            os.remove('papers/' + paper[\"title\"] + \".pdf\")\n",
    "\n",
    "        if \"supplemental_link\" in paper:\n",
    "            #Download PDF\n",
    "            with open('supplemental/' + paper[\"title\"] + \".pdf\", \"wb\") as pdfFile:\n",
    "                rsp = requests.get(paper[\"supplemental_link\"])\n",
    "                pdfFile.write(rsp.content)\n",
    "\n",
    "            #Extract Text\n",
    "            with open('supplemental/' + paper[\"title\"] + \".pdf\", \"rb\") as pdfFile:\n",
    "                pdf = pdftotext.PDF(pdfFile)\n",
    "                pdftxt += \"\\n\\n\".join(pdf)\n",
    "\n",
    "            #Delete PDF\n",
    "            os.remove('supplemental/' + paper[\"title\"] + \".pdf\")\n",
    "    except:\n",
    "        print(\"Could not extract text for: \" + paper[\"title\"])\n",
    "    return pdftxt.lower()"
   ]
  },
  {
   "cell_type": "code",
   "execution_count": 4,
   "metadata": {},
   "outputs": [],
   "source": [
    "def saveBroaderImpact(paper, txt):\n",
    "    broader_impact_idx = txt.find(\"broader impact\")\n",
    "    if broader_impact_idx < 0:\n",
    "        broader_impact_idx = txt.find(\"broader societal impact\")\n",
    "    if broader_impact_idx < 0:\n",
    "        print(\"Could not find Broader Impact section for: \" + paper[\"title\"])\n",
    "        return \n",
    "    \n",
    "    txt = txt[broader_impact_idx:]\n",
    "    end_idx = len(txt)\n",
    "    acknowledgement_idx = txt.find(\"acknowledgement\")\n",
    "    references_idx = txt.find(\"references\")\n",
    "    if acknowledgement_idx > 0 and references_idx > 0:\n",
    "        end_idx = min(acknowledgement_idx, references_idx)\n",
    "    elif acknowledgement_idx > 0:\n",
    "        end_idx = acknowledgement_idx\n",
    "    elif references_idx > 0:\n",
    "        end_idx = references_idx\n",
    "    \n",
    "    txt = txt[:end_idx]\n",
    "    \n",
    "    with open(\"papers/\" + paper[\"title\"] + \".txt\", \"w\") as txtFile:\n",
    "        txtFile.write(txt)"
   ]
  },
  {
   "cell_type": "code",
   "execution_count": 5,
   "metadata": {},
   "outputs": [],
   "source": [
    "def parsePaper(paper, pdftxt, parsed_papers):\n",
    "    keywords = [\\\n",
    "               (\"Github\", \"github.com\"),\\\n",
    "               (\"GPU\", \"gpu\"),\\\n",
    "               (\"Reproducibility\", \"reproducibility\"),\\\n",
    "               (\"Broader Impact\", \"broader impact\")]\n",
    "\n",
    "    parsed_paper = {\"title\": paper[\"title\"], \"year\": paper[\"year\"]}\n",
    "    for key, value in keywords:\n",
    "        parsed_paper[key] = int(value in pdftxt)\n",
    "    parsed_papers.append(parsed_paper)"
   ]
  },
  {
   "cell_type": "code",
   "execution_count": 6,
   "metadata": {},
   "outputs": [],
   "source": [
    "parsed_papers = []"
   ]
  },
  {
   "cell_type": "code",
   "execution_count": 7,
   "metadata": {},
   "outputs": [
    {
     "name": "stdout",
     "output_type": "stream",
     "text": [
      "2020\n",
      "Finished getting links\n",
      "2018\n",
      "https://proceedings.neurips.cc/paper/2018/hash/74627b65e6e6a4c21e06809b8e02114a-Abstract.html\n",
      "Finished getting links\n",
      "2017\n",
      "Finished getting links\n",
      "2016\n",
      "Finished getting links\n",
      "2015\n",
      "Finished getting links\n",
      "2014\n",
      "Finished getting links\n",
      "2013\n",
      "Finished getting links\n",
      "2012\n",
      "Finished getting links\n",
      "2011\n",
      "Finished getting links\n"
     ]
    }
   ],
   "source": [
    "years = [2020, 2018, 2017, 2016, 2015, 2014, 2013, 2012, 2011]\n",
    "for year in years:\n",
    "    print(str(year))\n",
    "    papers = getPapersForYear(year)\n",
    "    print(\"Finished getting links\")\n",
    "    for paper in papers:\n",
    "        pdftxt = extractTextFromURL(paper)\n",
    "        #saveBroaderImpact(paper, pdftxt)\n",
    "        parsePaper(paper, pdftxt, parsed_papers)\n",
    "    \n",
    "    parsed_papers_pd = pd.DataFrame(parsed_papers)\n",
    "    with open(\"pickles/neurips_parsed_papers_pd.pickle\", \"wb\") as pickleFile:\n",
    "        description = \"table with statistics of interest for neurips papers. Each paper is a row in which\\\n",
    "        we indicate the desired properties that are satisfied.\"\n",
    "        pickle.dump((description, parsed_papers_pd), pickleFile)"
   ]
  },
  {
   "cell_type": "code",
   "execution_count": 8,
   "metadata": {},
   "outputs": [],
   "source": [
    "parsed_papers_pd = pd.DataFrame(parsed_papers)\n",
    "with open(\"pickles/neurips_parsed_papers_pd.pickle\", \"wb\") as pickleFile:\n",
    "    description = \"table with statistics of interest for neurips 2002 papers. Each paper is a row in which\\\n",
    "    we indicate the desired properties that are satisfied.\"\n",
    "    pickle.dump((description, parsed_papers_pd), pickleFile)"
   ]
  },
  {
   "cell_type": "code",
   "execution_count": 9,
   "metadata": {},
   "outputs": [
    {
     "data": {
      "text/html": [
       "<div>\n",
       "<style scoped>\n",
       "    .dataframe tbody tr th:only-of-type {\n",
       "        vertical-align: middle;\n",
       "    }\n",
       "\n",
       "    .dataframe tbody tr th {\n",
       "        vertical-align: top;\n",
       "    }\n",
       "\n",
       "    .dataframe thead th {\n",
       "        text-align: right;\n",
       "    }\n",
       "</style>\n",
       "<table border=\"1\" class=\"dataframe\">\n",
       "  <thead>\n",
       "    <tr style=\"text-align: right;\">\n",
       "      <th></th>\n",
       "      <th>Github</th>\n",
       "      <th>GPU</th>\n",
       "      <th>Reproducibility</th>\n",
       "      <th>Broader Impact</th>\n",
       "    </tr>\n",
       "    <tr>\n",
       "      <th>year</th>\n",
       "      <th></th>\n",
       "      <th></th>\n",
       "      <th></th>\n",
       "      <th></th>\n",
       "    </tr>\n",
       "  </thead>\n",
       "  <tbody>\n",
       "    <tr>\n",
       "      <th>2011</th>\n",
       "      <td>0.006536</td>\n",
       "      <td>0.016340</td>\n",
       "      <td>0.003268</td>\n",
       "      <td>0.000000</td>\n",
       "    </tr>\n",
       "    <tr>\n",
       "      <th>2012</th>\n",
       "      <td>0.002703</td>\n",
       "      <td>0.035135</td>\n",
       "      <td>0.008108</td>\n",
       "      <td>0.002703</td>\n",
       "    </tr>\n",
       "    <tr>\n",
       "      <th>2013</th>\n",
       "      <td>0.025000</td>\n",
       "      <td>0.036111</td>\n",
       "      <td>0.002778</td>\n",
       "      <td>0.000000</td>\n",
       "    </tr>\n",
       "    <tr>\n",
       "      <th>2014</th>\n",
       "      <td>0.046229</td>\n",
       "      <td>0.090024</td>\n",
       "      <td>0.002433</td>\n",
       "      <td>0.000000</td>\n",
       "    </tr>\n",
       "    <tr>\n",
       "      <th>2015</th>\n",
       "      <td>0.121588</td>\n",
       "      <td>0.104218</td>\n",
       "      <td>0.024814</td>\n",
       "      <td>0.000000</td>\n",
       "    </tr>\n",
       "    <tr>\n",
       "      <th>2016</th>\n",
       "      <td>0.186292</td>\n",
       "      <td>0.130053</td>\n",
       "      <td>0.008787</td>\n",
       "      <td>0.000000</td>\n",
       "    </tr>\n",
       "    <tr>\n",
       "      <th>2017</th>\n",
       "      <td>0.304860</td>\n",
       "      <td>0.163476</td>\n",
       "      <td>0.011782</td>\n",
       "      <td>0.000000</td>\n",
       "    </tr>\n",
       "    <tr>\n",
       "      <th>2018</th>\n",
       "      <td>0.369048</td>\n",
       "      <td>0.193452</td>\n",
       "      <td>0.019841</td>\n",
       "      <td>0.000992</td>\n",
       "    </tr>\n",
       "    <tr>\n",
       "      <th>2020</th>\n",
       "      <td>0.560590</td>\n",
       "      <td>0.336143</td>\n",
       "      <td>0.051106</td>\n",
       "      <td>0.987882</td>\n",
       "    </tr>\n",
       "  </tbody>\n",
       "</table>\n",
       "</div>"
      ],
      "text/plain": [
       "        Github       GPU  Reproducibility  Broader Impact\n",
       "year                                                     \n",
       "2011  0.006536  0.016340         0.003268        0.000000\n",
       "2012  0.002703  0.035135         0.008108        0.002703\n",
       "2013  0.025000  0.036111         0.002778        0.000000\n",
       "2014  0.046229  0.090024         0.002433        0.000000\n",
       "2015  0.121588  0.104218         0.024814        0.000000\n",
       "2016  0.186292  0.130053         0.008787        0.000000\n",
       "2017  0.304860  0.163476         0.011782        0.000000\n",
       "2018  0.369048  0.193452         0.019841        0.000992\n",
       "2020  0.560590  0.336143         0.051106        0.987882"
      ]
     },
     "execution_count": 9,
     "metadata": {},
     "output_type": "execute_result"
    }
   ],
   "source": [
    "with open(\"pickles/neurips_parsed_papers_pd.pickle\", \"rb\") as pickleFile:\n",
    "    description, parsed_papers_pd = pickle.load(pickleFile)\n",
    "\n",
    "parsed_papers_pd.groupby(\"year\").mean()"
   ]
  },
  {
   "cell_type": "code",
   "execution_count": 10,
   "metadata": {},
   "outputs": [
    {
     "data": {
      "text/plain": [
       "Text(0.5, 1.0, 'Fraction of NeurIPS papers containing computing keywords (2011-2020)')"
      ]
     },
     "execution_count": 10,
     "metadata": {},
     "output_type": "execute_result"
    },
    {
     "data": {
      "image/png": "[encoded data removed]",
      "text/plain": [
       "<Figure size 432x288 with 1 Axes>"
      ]
     },
     "metadata": {
      "needs_background": "light"
     },
     "output_type": "display_data"
    }
   ],
   "source": [
    "ax = plt.subplot()\n",
    "parsed_papers_pd[[\"year\", \"Github\", \"GPU\", \"Reproducibility\"]].groupby(\"year\").mean().plot(ax=ax)\n",
    "ax.set_xlabel(\"Year\")\n",
    "ax.set_ylabel(\"Fraction of Papers\")\n",
    "ax.set_title(\"Fraction of NeurIPS papers containing computing keywords (2011-2020)\")"
   ]
  },
  {
   "cell_type": "code",
   "execution_count": 40,
   "metadata": {},
   "outputs": [
    {
     "data": {
      "text/plain": [
       "0                              Compositional Plan Vectors\n",
       "1           Learning to Propagate for Graph Meta-Learning\n",
       "2       XNAS: Neural Architecture Search with Expert A...\n",
       "3          Multi-resolution Multi-task Gaussian Processes\n",
       "4                                 Deep Equilibrium Models\n",
       "                              ...                        \n",
       "7426                Pylon Model for Semantic Segmentation\n",
       "7427               How biased are maximum entropy models?\n",
       "7428         Gaussian process modulated renewal processes\n",
       "7429    An ideal observer model for identifying the re...\n",
       "7430    Greedy Algorithms for Structurally Constrained...\n",
       "Name: title, Length: 7431, dtype: object"
      ]
     },
     "execution_count": 40,
     "metadata": {},
     "output_type": "execute_result"
    }
   ],
   "source": []
  },
  {
   "cell_type": "code",
   "execution_count": null,
   "metadata": {},
   "outputs": [],
   "source": []
  }
 ],
 "metadata": {
  "kernelspec": {
   "display_name": "Python 3",
   "language": "python",
   "name": "python3"
  },
  "language_info": {
   "codemirror_mode": {
    "name": "ipython",
    "version": 3
   },
   "file_extension": ".py",
   "mimetype": "text/x-python",
   "name": "python",
   "nbconvert_exporter": "python",
   "pygments_lexer": "ipython3",
   "version": "3.8.3"
  }
 },
 "nbformat": 4,
 "nbformat_minor": 4
}
